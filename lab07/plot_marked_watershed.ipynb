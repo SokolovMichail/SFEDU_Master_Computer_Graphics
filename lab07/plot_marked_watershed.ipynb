{
 "cells": [
  {
   "cell_type": "code",
   "execution_count": 1,
   "metadata": {},
   "outputs": [],
   "source": [
    "%matplotlib inline"
   ]
  },
  {
   "cell_type": "markdown",
   "metadata": {},
   "source": [
    "\n",
    "# Markers for watershed transform\n",
    "\n",
    "The watershed is a classical algorithm used for **segmentation**, that\n",
    "is, for separating different objects in an image.\n",
    "\n",
    "Here a marker image is built from the region of low gradient inside the image.\n",
    "In a gradient image, the areas of high values provide barriers that help to\n",
    "segment the image.\n",
    "Using markers on the lower values will ensure that the segmented objects are\n",
    "found.\n",
    "\n",
    "See Wikipedia_ for more details on the algorithm.\n",
    "\n"
   ]
  },
  {
   "cell_type": "code",
   "execution_count": 2,
   "metadata": {},
   "outputs": [
    {
     "ename": "AttributeError",
     "evalue": "module 'skimage.data' has no attribute 'eagle'",
     "output_type": "error",
     "traceback": [
      "\u001b[1;31m---------------------------------------------------------------------------\u001b[0m",
      "\u001b[1;31mAttributeError\u001b[0m                            Traceback (most recent call last)",
      "\u001b[1;32m<ipython-input-2-78d954bada38>\u001b[0m in \u001b[0;36m<module>\u001b[1;34m\u001b[0m\n\u001b[0;32m      9\u001b[0m \u001b[1;33m\u001b[0m\u001b[0m\n\u001b[0;32m     10\u001b[0m \u001b[1;33m\u001b[0m\u001b[0m\n\u001b[1;32m---> 11\u001b[1;33m \u001b[0mimage\u001b[0m \u001b[1;33m=\u001b[0m \u001b[0mimg_as_ubyte\u001b[0m\u001b[1;33m(\u001b[0m\u001b[0mdata\u001b[0m\u001b[1;33m.\u001b[0m\u001b[0meagle\u001b[0m\u001b[1;33m(\u001b[0m\u001b[1;33m)\u001b[0m\u001b[1;33m)\u001b[0m\u001b[1;33m\u001b[0m\u001b[1;33m\u001b[0m\u001b[0m\n\u001b[0m\u001b[0;32m     12\u001b[0m \u001b[1;33m\u001b[0m\u001b[0m\n\u001b[0;32m     13\u001b[0m \u001b[1;31m# denoise image\u001b[0m\u001b[1;33m\u001b[0m\u001b[1;33m\u001b[0m\u001b[1;33m\u001b[0m\u001b[0m\n",
      "\u001b[1;31mAttributeError\u001b[0m: module 'skimage.data' has no attribute 'eagle'"
     ]
    }
   ],
   "source": [
    "from scipy import ndimage as ndi\n",
    "import matplotlib.pyplot as plt\n",
    "\n",
    "from skimage.morphology import disk\n",
    "from skimage.segmentation import watershed\n",
    "from skimage import data\n",
    "from skimage.filters import rank\n",
    "from skimage.util import img_as_ubyte\n",
    "\n",
    "\n",
    "image = img_as_ubyte(data.eagle())\n",
    "\n",
    "# denoise image\n",
    "denoised = rank.median(image, disk(2))\n",
    "\n",
    "# find continuous region (low gradient -\n",
    "# where less than 10 for this image) --> markers\n",
    "# disk(5) is used here to get a more smooth image\n",
    "markers = rank.gradient(denoised, disk(5)) < 10\n",
    "markers = ndi.label(markers)[0]\n",
    "\n",
    "# local gradient (disk(2) is used to keep edges thin)\n",
    "gradient = rank.gradient(denoised, disk(2))\n",
    "\n",
    "# process the watershed\n",
    "labels = watershed(gradient, markers)\n",
    "\n",
    "# display results\n",
    "fig, axes = plt.subplots(nrows=2, ncols=2, figsize=(8, 8),\n",
    "                         sharex=True, sharey=True)\n",
    "ax = axes.ravel()\n",
    "\n",
    "ax[0].imshow(image, cmap=plt.cm.gray)\n",
    "ax[0].set_title(\"Original\")\n",
    "\n",
    "ax[1].imshow(gradient, cmap=plt.cm.nipy_spectral)\n",
    "ax[1].set_title(\"Local Gradient\")\n",
    "\n",
    "ax[2].imshow(markers, cmap=plt.cm.nipy_spectral)\n",
    "ax[2].set_title(\"Markers\")\n",
    "\n",
    "ax[3].imshow(image, cmap=plt.cm.gray)\n",
    "ax[3].imshow(labels, cmap=plt.cm.nipy_spectral, alpha=.5)\n",
    "ax[3].set_title(\"Segmented\")\n",
    "\n",
    "for a in ax:\n",
    "    a.axis('off')\n",
    "\n",
    "fig.tight_layout()\n",
    "plt.show()"
   ]
  }
 ],
 "metadata": {
  "kernelspec": {
   "display_name": "Python 3",
   "language": "python",
   "name": "python3"
  },
  "language_info": {
   "codemirror_mode": {
    "name": "ipython",
    "version": 3
   },
   "file_extension": ".py",
   "mimetype": "text/x-python",
   "name": "python",
   "nbconvert_exporter": "python",
   "pygments_lexer": "ipython3",
   "version": "3.7.7"
  }
 },
 "nbformat": 4,
 "nbformat_minor": 1
}
