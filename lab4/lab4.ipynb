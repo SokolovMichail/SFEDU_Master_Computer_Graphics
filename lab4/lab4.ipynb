{
 "cells": [
  {
   "cell_type": "markdown",
   "metadata": {},
   "source": [
    "# Загружаем изображение"
   ]
  },
  {
   "cell_type": "code",
   "execution_count": 1,
   "metadata": {},
   "outputs": [],
   "source": [
    "import numpy as np\n",
    "import cv2\n",
    "\n",
    "# Load an color image in grayscale\n",
    "img_ld = cv2.imread('cog.png',0)\n",
    "_,img = cv2.threshold(img_ld, 127, 255, 0)\n",
    "_,image_stock = cv2.threshold(img_ld, 127, 255, 0)"
   ]
  },
  {
   "cell_type": "code",
   "execution_count": 2,
   "metadata": {},
   "outputs": [
    {
     "data": {
      "text/plain": [
       "array([[0, 0, 0, ..., 0, 0, 0],\n",
       "       [0, 0, 0, ..., 0, 0, 0],\n",
       "       [0, 0, 0, ..., 0, 0, 0],\n",
       "       ...,\n",
       "       [0, 0, 0, ..., 0, 0, 0],\n",
       "       [0, 0, 0, ..., 0, 0, 0],\n",
       "       [0, 0, 0, ..., 0, 0, 0]], dtype=uint8)"
      ]
     },
     "execution_count": 2,
     "metadata": {},
     "output_type": "execute_result"
    }
   ],
   "source": [
    "img"
   ]
  },
  {
   "cell_type": "code",
   "execution_count": 3,
   "metadata": {},
   "outputs": [],
   "source": [
    "cv2.imshow('image',image_stock)\n",
    "cv2.waitKey(0)\n",
    "cv2.destroyAllWindows()"
   ]
  },
  {
   "cell_type": "markdown",
   "metadata": {},
   "source": [
    "# 1 операция - эрозия исх. изображения элементом hole-ring"
   ]
  },
  {
   "cell_type": "code",
   "execution_count": 4,
   "metadata": {},
   "outputs": [],
   "source": [
    "dim_1 = 99\n",
    "dim_2 = 97\n",
    "\n",
    "kernel_1 = cv2.getStructuringElement(cv2.MORPH_ELLIPSE,(dim_1,dim_1))\n",
    "kernel_2 = cv2.getStructuringElement(cv2.MORPH_ELLIPSE,(dim_2,dim_2))\n",
    "addin_1 = np.zeros((dim_2,1))\n",
    "kernel_2 = np.hstack((addin_1,kernel_2,addin_1))\n",
    "addin_2 = np.zeros((1,dim_1))\n",
    "kernel_2 = np.vstack((addin_2,kernel_2,addin_2))\n",
    "kernel_2\n",
    "kernel_ring = kernel_1 - kernel_2\n",
    "kernel_ring = kernel_ring.astype('uint8')"
   ]
  },
  {
   "cell_type": "code",
   "execution_count": 5,
   "metadata": {},
   "outputs": [],
   "source": [
    "image_eroded = cv2.erode(image_stock,kernel_ring)"
   ]
  },
  {
   "cell_type": "code",
   "execution_count": 6,
   "metadata": {},
   "outputs": [],
   "source": [
    "cv2.imshow('image',image_eroded)\n",
    "cv2.waitKey(0)\n",
    "cv2.destroyAllWindows()"
   ]
  },
  {
   "cell_type": "markdown",
   "metadata": {},
   "source": [
    "# 2 Операция - dilute того, что получилось 8-угольником"
   ]
  },
  {
   "cell_type": "code",
   "execution_count": 7,
   "metadata": {},
   "outputs": [],
   "source": [
    "dim_1 = 99\n",
    "dim_2 = int(dim_1/3)\n",
    "kernel_1 = cv2.getStructuringElement(cv2.MORPH_RECT,(dim_1,dim_1))\n",
    "for i in range(dim_2+1):\n",
    "    for j in range(dim_2+1):\n",
    "        kernel_1[i][j] = 0\n",
    "        kernel_1[dim_1-i-1][j] = 0\n",
    "        kernel_1[i,dim_1-j-1] = 0\n",
    "        kernel_1[dim_1-i-1][dim_1-j-1] = 0\n",
    "kernel_octagon = kernel_1"
   ]
  },
  {
   "cell_type": "code",
   "execution_count": 8,
   "metadata": {},
   "outputs": [],
   "source": [
    "cv2.imshow('image',kernel_octagon)\n",
    "cv2.waitKey(0)\n",
    "cv2.destroyAllWindows()\n",
    "kernel_1 = cv2.getStructuringElement(cv2.MORPH_ELLIPSE,(dim_1+2,dim_1+2))"
   ]
  },
  {
   "cell_type": "code",
   "execution_count": 9,
   "metadata": {},
   "outputs": [],
   "source": [
    "image_dilated = cv2.dilate(image_eroded,kernel_1)"
   ]
  },
  {
   "cell_type": "code",
   "execution_count": 10,
   "metadata": {},
   "outputs": [],
   "source": [
    "cv2.imshow('image',image_dilated)\n",
    "cv2.waitKey(0)\n",
    "cv2.destroyAllWindows()"
   ]
  },
  {
   "cell_type": "markdown",
   "metadata": {},
   "source": [
    "# 3 Операция - сложение"
   ]
  },
  {
   "cell_type": "code",
   "execution_count": 11,
   "metadata": {},
   "outputs": [],
   "source": [
    "image_added = image_stock|image_dilated"
   ]
  },
  {
   "cell_type": "code",
   "execution_count": 42,
   "metadata": {},
   "outputs": [],
   "source": [
    "cv2.imshow('image',image_added)\n",
    "cv2.waitKey(0)\n",
    "cv2.destroyAllWindows()"
   ]
  },
  {
   "cell_type": "markdown",
   "metadata": {},
   "source": [
    "# 4 Операция - размыкание на Gear_Body"
   ]
  },
  {
   "cell_type": "code",
   "execution_count": 127,
   "metadata": {},
   "outputs": [],
   "source": [
    "dim_1 = 285\n",
    "#kernel_1 = np.zeros((dim_1,dim_1))\n",
    "#cv2.circle(kernel_1,(int(dim_1/2),int(dim_1/2)),int(dim_1/2),255)\n",
    "#kernel_1 = kernel_1.astype('uint8')\n",
    "kernel_gear_body = cv2.getStructuringElement(cv2.MORPH_ELLIPSE,(dim_1,dim_1))\n",
    "#image_closed = cv2.morphologyEx(image_added, cv2.MORPH_OPEN, kernel_1)\n",
    "image_closed = cv2.morphologyEx(image_added, cv2.MORPH_OPEN, kernel_gear_body)"
   ]
  },
  {
   "cell_type": "code",
   "execution_count": 128,
   "metadata": {},
   "outputs": [],
   "source": [
    "cv2.imshow('image',image_closed)\n",
    "cv2.waitKey(0)\n",
    "cv2.destroyAllWindows()"
   ]
  },
  {
   "cell_type": "code",
   "execution_count": 129,
   "metadata": {},
   "outputs": [],
   "source": [
    "dim_2 = 20\n",
    "kernel_sampling_ring_spacer = cv2.getStructuringElement(cv2.MORPH_ELLIPSE,(dim_2,dim_2))"
   ]
  },
  {
   "cell_type": "code",
   "execution_count": 130,
   "metadata": {},
   "outputs": [],
   "source": [
    "image_tmp = cv2.dilate(image_closed,kernel_sampling_ring_spacer)"
   ]
  },
  {
   "cell_type": "code",
   "execution_count": 132,
   "metadata": {},
   "outputs": [],
   "source": [
    "cv2.imshow('image',image_tmp)\n",
    "cv2.waitKey(0)\n",
    "cv2.destroyAllWindows()"
   ]
  },
  {
   "cell_type": "code",
   "execution_count": 133,
   "metadata": {},
   "outputs": [],
   "source": [
    "image_sel = image_tmp-image_closed"
   ]
  },
  {
   "cell_type": "code",
   "execution_count": 151,
   "metadata": {},
   "outputs": [],
   "source": [
    "cv2.imshow('image',image_sel)\n",
    "cv2.waitKey(0)\n",
    "cv2.destroyAllWindows()"
   ]
  },
  {
   "cell_type": "code",
   "execution_count": 176,
   "metadata": {},
   "outputs": [],
   "source": [
    "dim_2 = 302\n",
    "kernel = np.zeros((dim_2,dim_2))\n",
    "cv2.circle(kernel,(int(dim_2/2),int(dim_2/2)),int(dim_2/2),255)\n",
    "kernel = kernel.astype('uint8')\n",
    "image_inflated = cv2.morphologyEx(image_sel, cv2.MORPH_OPEN, kernel)"
   ]
  },
  {
   "cell_type": "code",
   "execution_count": 177,
   "metadata": {},
   "outputs": [],
   "source": [
    "cv2.imshow('image',image_inflated)\n",
    "cv2.waitKey(0)\n",
    "cv2.destroyAllWindows()"
   ]
  },
  {
   "cell_type": "markdown",
   "metadata": {},
   "source": [
    "# 5 Операция - логическое умножение на исходное изображение"
   ]
  },
  {
   "cell_type": "code",
   "execution_count": 178,
   "metadata": {},
   "outputs": [],
   "source": [
    "image_mult_src = image_inflated & image_stock"
   ]
  },
  {
   "cell_type": "code",
   "execution_count": 179,
   "metadata": {},
   "outputs": [],
   "source": [
    "cv2.imshow('image',image_mult_src)\n",
    "cv2.waitKey(0)\n",
    "cv2.destroyAllWindows()"
   ]
  },
  {
   "cell_type": "markdown",
   "metadata": {},
   "source": [
    "# 6 Операция - выделяем зубцы"
   ]
  },
  {
   "cell_type": "code",
   "execution_count": 193,
   "metadata": {},
   "outputs": [],
   "source": [
    "dim_3 = 20\n",
    "kernel_teeth = cv2.getStructuringElement(cv2.MORPH_ELLIPSE,(dim_3,dim_3))\n",
    "image_cogteeth = cv2.dilate(image_mult_src,kernel_teeth)"
   ]
  },
  {
   "cell_type": "code",
   "execution_count": 203,
   "metadata": {},
   "outputs": [],
   "source": [
    "cv2.imshow('image',image_cogteeth)\n",
    "cv2.waitKey(0)\n",
    "cv2.destroyAllWindows()"
   ]
  },
  {
   "cell_type": "code",
   "execution_count": 196,
   "metadata": {},
   "outputs": [],
   "source": [
    "image_defects = image_sel - image_cogteeth\n",
    "cv2.imshow('image',image_defects)\n",
    "cv2.waitKey(0)\n",
    "cv2.destroyAllWindows()"
   ]
  },
  {
   "cell_type": "code",
   "execution_count": 205,
   "metadata": {},
   "outputs": [],
   "source": [
    "dim_4 = 40\n",
    "kernel_defects = cv2.getStructuringElement(cv2.MORPH_ELLIPSE,(dim_4,dim_4))\n",
    "image_defects_infl = cv2.dilate(image_defects,kernel_defects)\n",
    "cv2.imshow('image',image_defects_infl)\n",
    "cv2.waitKey(0)\n",
    "cv2.destroyAllWindows()"
   ]
  },
  {
   "cell_type": "code",
   "execution_count": 207,
   "metadata": {},
   "outputs": [],
   "source": [
    "image_defects_final = image_defects_infl | image_cogteeth\n",
    "cv2.imshow('image',image_defects_final)\n",
    "cv2.waitKey(0)\n",
    "cv2.destroyAllWindows()"
   ]
  },
  {
   "cell_type": "code",
   "execution_count": null,
   "metadata": {},
   "outputs": [],
   "source": []
  }
 ],
 "metadata": {
  "kernelspec": {
   "display_name": "Python 3",
   "language": "python",
   "name": "python3"
  },
  "language_info": {
   "codemirror_mode": {
    "name": "ipython",
    "version": 3
   },
   "file_extension": ".py",
   "mimetype": "text/x-python",
   "name": "python",
   "nbconvert_exporter": "python",
   "pygments_lexer": "ipython3",
   "version": "3.7.7"
  }
 },
 "nbformat": 4,
 "nbformat_minor": 4
}
